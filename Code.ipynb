{
 "cells": [
  {
   "cell_type": "code",
   "execution_count": 126,
   "metadata": {},
   "outputs": [],
   "source": [
    "# opent the file\n",
    "f= open('dna_sequence.fasta', \"r\")"
   ]
  },
  {
   "cell_type": "code",
   "execution_count": 186,
   "metadata": {},
   "outputs": [],
   "source": [
    "# take a look of the file\n",
    "#for line in f:\n",
    "    #print(line)"
   ]
  },
  {
   "cell_type": "code",
   "execution_count": 131,
   "metadata": {},
   "outputs": [],
   "source": [
    "# aggregate into a dictionary called seqs\n",
    "f.seek(0)\n",
    "seqs={}\n",
    "for l in f:\n",
    "    l=l.rstrip()\n",
    "    if l[0]==\">\":\n",
    "        words=l.split()\n",
    "        #print(words)\n",
    "        name=words[0][1:]\n",
    "        seqs[name]=''\n",
    "    else :\n",
    "        seqs[name]=seqs[name]+l"
   ]
  },
  {
   "cell_type": "code",
   "execution_count": 133,
   "metadata": {},
   "outputs": [
    {
     "data": {
      "text/plain": [
       "18"
      ]
     },
     "execution_count": 133,
     "metadata": {},
     "output_type": "execute_result"
    }
   ],
   "source": [
    "# the number of records\n",
    "len(seqs)"
   ]
  },
  {
   "cell_type": "code",
   "execution_count": 134,
   "metadata": {},
   "outputs": [
    {
     "name": "stdout",
     "output_type": "stream",
     "text": [
      "[4635, 1151, 4894, 3511, 4076, 2867, 442, 890, 967, 4338, 1352, 4564, 4804, 964, 2095, 1432, 115, 2646]\n",
      "Max value is: 4894 2\n",
      "Min value is: 115 16\n"
     ]
    }
   ],
   "source": [
    "# max value and min value of the records and the index\n",
    "values = []\n",
    "for value in seqs.values():\n",
    "    values.append(len(value))\n",
    "print(values)\n",
    "print(\"Max value is:\", max(values), values.index(max(values)))\n",
    "print(\"Min value is:\", min(values), values.index(min(values)))\n",
    "\n",
    "ma_po=values.index(max(values))\n",
    "mi_po=values.index(min(values))    "
   ]
  },
  {
   "cell_type": "code",
   "execution_count": 136,
   "metadata": {},
   "outputs": [
    {
     "name": "stdout",
     "output_type": "stream",
     "text": [
      "id of max seq: gi|142022655|gb|EQ086233.1|255\n",
      "id of min seq: gi|142022655|gb|EQ086233.1|346\n"
     ]
    }
   ],
   "source": [
    "# identifier of the max and min\n",
    "key_list = list(seqs.keys()) \n",
    "\n",
    "ma_id = key_list[ma_po]\n",
    "mi_id = key_list[mi_po]\n",
    "print(\"id of max seq:\", ma_id)\n",
    "print(\"id of min seq:\", mi_id)"
   ]
  },
  {
   "cell_type": "code",
   "execution_count": 142,
   "metadata": {},
   "outputs": [],
   "source": [
    "# 3. use biopython to find the longest open reading frame\n",
    "from Bio import Seq\n",
    "import regex as re"
   ]
  },
  {
   "cell_type": "code",
   "execution_count": 151,
   "metadata": {},
   "outputs": [],
   "source": [
    "# for known identifier, find the longest ORF\n",
    "startP = re.compile('ATG')\n",
    "nuc = seqs.get(\"gi|142022655|gb|EQ086233.1|16\")\n",
    "longest = (0,)\n",
    "for m in startP.finditer(nuc, overlapped=True):\n",
    "    if len(Seq.Seq(nuc)[m.start():].translate(to_stop=True)) > longest[0]:\n",
    "        pro = Seq.Seq(nuc)[m.start():].translate(to_stop=True)\n",
    "        longest = (len(pro), \n",
    "                   m.start(), \n",
    "                   str(pro),\n",
    "                   len(nuc[m.start():m.start()+len(pro)*3+3]))"
   ]
  },
  {
   "cell_type": "code",
   "execution_count": 152,
   "metadata": {},
   "outputs": [
    {
     "data": {
      "text/plain": [
       "(547,\n",
       " 1439,\n",
       " 'MRAILHRRLSFHPGRHRVMPALTFSWSESDESRSESRRSRSRRGAGRQPVQRRSRADDAGAAHVEVVSLRGAVGRDGDEHRVVHARGRADPGRHVAVAGGDDGAARQPDRARADAADRPCGREARDSVRGARARVVRHAGGEAAGAAARDRRVRLVRDPDLARRQRDLYAAEHPDRQRAAWRRAAGHRHRVRAARMLPRVLGAAALLHLAWHRFDPLARKLVGADQGRDVRGAGVVGNVEGGRLRHDAVGAVAVCRRRQESRAVLGDLLAGADRDGRLLGDARAEHPRLHALRAFAARPGDRPVDRAAVADGAAVGGVGRRDVGDRRDLRQRDLGSDRPDEPDDGHRRGHRARDPHARHDVLQPRRESRRPGVRLLEPVAEGDLVPHRRDDHRDARDRDDAVEDPRDDGRLHLHLARRLLGAARARGGDPDGRLLPDSRHAARHARAVRRARRLQLRARLEPGRAGRARGRRAAEPARLPAHGVSGVVSERAGVLQHALHVRVVRRPRAGVMRVRHLDEVARRTARADRERLIRHPTVNEEATPWQS',\n",
       " 1644)"
      ]
     },
     "execution_count": 152,
     "metadata": {},
     "output_type": "execute_result"
    }
   ],
   "source": [
    "longest"
   ]
  },
  {
   "cell_type": "code",
   "execution_count": 148,
   "metadata": {},
   "outputs": [
    {
     "name": "stdout",
     "output_type": "stream",
     "text": [
      "(797, 384, 'MEKQSRVTRDGRGRVLCGHRCRGRDWTGHDVRSFRPDSSALLERRHQWDHGSAHHGGDDADGAEPARDGRVRNQRTACVGRVARDARHGARGGRNAAAGMSRQSGWRMRMPATHRRRLAGRRASHSPFAIRHSPFAIRHSPFAIRHSPFAERSIDDGGGHAPEFDMPASSDTANRRASSIARIQRGLKRGLGRRCRFMAAVARGGGMAGPDPEPDRIHRGQEHEREDRPGERAADQRVRERAPEHRMRERNEREHGRHRGKNHRARPLHGRFDDRVERIESRVFVLVDLADQDQRVAHQDPRQRDEADQRIDAERLPEQDQRRHHADQAERARHEHHHHRGDRAHLEDDDHERDRQHDREERQHRLRGLAGFLDGAGFLDSIAARQRGDDRLKLLRDRGRHVRRLQAVGDVAAHRERRHAIAPAHDRLFHPHVDLADLRQRDALPVRAGEREVVEPRRVEPRIAARARDHLYGPDILAYRGDGHPGQQELQLLRDRAGRQPDCLQAVLLQRKVQRRRARAPVGIDRAHHRAAVHHTLDVGCDTAQLVRIGARDPVGHRERRIRAEHELRHAHLRFGREAVGDGAPQPRLQRFALVLAVRADHDLRERRIGQLRPHREIEARRALADVRGDDPRFLLLREPRLDLLRGGARLRNRRAVRHLHLDQYLGAIGDREKLLLHDRHAENREHEEGDDRTGDEPFAGDHARQQLPEAVVAGRVVDRIVAAFEFPEVRQHLHAEVRRERDGDDPRCDQRDSDDPEHVARVFAGGGAREAVRHEADRGDQRAGQHRRGRMAPRVG', 2394, 3511, 'gi|142022655|gb|EQ086233.1|45')\n"
     ]
    }
   ],
   "source": [
    "# find the longest ORF from all the sequences\n",
    "n=0\n",
    "startP = re.compile('ATG')\n",
    "longest = (0,)\n",
    "#list_longs=[]\n",
    "for key, value in seqs.items():\n",
    "    n=n+1\n",
    "    for m in startP.finditer(value, overlapped=True):\n",
    "        if len(Seq.Seq(value)[m.start():].translate(to_stop=True)) > longest[0]:\n",
    "            pro = Seq.Seq(value)[m.start():].translate(to_stop=True)\n",
    "            longest = (len(pro), \n",
    "                       m.start(), \n",
    "                       str(pro),\n",
    "                       len(value[m.start():m.start()+len(pro)*3+3]),\n",
    "                       len(value),\n",
    "                        key)\n",
    "            #list_longs.append(longest)\n",
    "print(longest)\n"
   ]
  },
  {
   "cell_type": "code",
   "execution_count": 175,
   "metadata": {},
   "outputs": [],
   "source": [
    "#4. the length of the longest ORF appearing in reading frame 2 of any of the sequences\n",
    "def find_orf_2(sequence):\n",
    "    # Find all ATG indexs\n",
    "    start_position = 1\n",
    "    start_indexs = []\n",
    "    stop_indexs = []\n",
    "    for i in range(1, len(sequence), 3):\n",
    "        if sequence[i:i+3] == \"ATG\":\n",
    "            start_indexs.append(i)\n",
    "\n",
    "    # Find all stop codon indexs\n",
    "    for i in range(1, len(sequence), 3):\n",
    "        stops =[\"TAA\", \"TGA\", \"TAG\"]\n",
    "        if sequence[i:i+3] in stops:\n",
    "            stop_indexs.append(i)\n",
    "\n",
    "    orf = []\n",
    "    mark = 0\n",
    "    for i in range(0,len(start_indexs)):\n",
    "        for j in range(0, len(stop_indexs)):\n",
    "            if start_indexs[i] < stop_indexs[j] and start_indexs[i] > mark:\n",
    "                orf.append(sequence[start_indexs[i]:stop_indexs[j]+3])\n",
    "                mark = stop_indexs[j]+3\n",
    "                break\n",
    "    return orf\n"
   ]
  },
  {
   "cell_type": "code",
   "execution_count": 176,
   "metadata": {},
   "outputs": [
    {
     "name": "stdout",
     "output_type": "stream",
     "text": [
      "1458\n"
     ]
    }
   ],
   "source": [
    "n = 1\n",
    "lengths = []\n",
    "for key, value in seqs.items():\n",
    "    orfs = find_orf_2(value)\n",
    "    for j in orfs:\n",
    "        lengths.append(len(j))\n",
    "\n",
    "# orf_lengths = [len(i) for i in orf_2 if i]\n",
    "print(max(lengths))"
   ]
  },
  {
   "cell_type": "code",
   "execution_count": 184,
   "metadata": {},
   "outputs": [],
   "source": [
    "# the starting position of the longest ORF in reading frame 3 in any of the sequences, might be wrong\n",
    "def find_orf_3(sequence):\n",
    "    # Find all ATG indexs\n",
    "    start_position = 2\n",
    "    start_indexs = []\n",
    "    stop_indexs = []\n",
    "    for i in range(2, len(sequence), 3):\n",
    "        if sequence[i:i+3] == \"ATG\":\n",
    "            start_indexs.append(i)\n",
    "\n",
    "    # Find all stop codon indexs\n",
    "    for i in range(2, len(sequence), 3):\n",
    "        stops =[\"TAA\", \"TGA\", \"TAG\"]\n",
    "        if sequence[i:i+3] in stops:\n",
    "            stop_indexs.append(i)\n",
    "\n",
    "    orf = []\n",
    "    mark = 0\n",
    "    start_position = {}\n",
    "    for i in range(0,len(start_indexs)):\n",
    "        for j in range(0, len(stop_indexs)):\n",
    "            if start_indexs[i] < stop_indexs[j] and start_indexs[i] > mark:\n",
    "                orf.append(sequence[start_indexs[i]:stop_indexs[j]+3])\n",
    "                start_position[len(sequence[start_indexs[i]:stop_indexs[j]+3])] = start_indexs[i]\n",
    "                mark = stop_indexs[j]+3\n",
    "                break\n",
    "    return start_position\n"
   ]
  },
  {
   "cell_type": "code",
   "execution_count": null,
   "metadata": {},
   "outputs": [],
   "source": [
    "find_orf_3(sequence)"
   ]
  },
  {
   "cell_type": "code",
   "execution_count": 185,
   "metadata": {},
   "outputs": [
    {
     "name": "stdout",
     "output_type": "stream",
     "text": [
      "[1]\n",
      "{354: 908, 39: 1400, 129: 2270, 588: 2855, 84: 3449, 150: 3542, 99: 3752, 15: 3941, 48: 4082, 30: 4262, 66: 4310, 81: 4391}\n",
      "[2]\n",
      "{147: 620, 120: 908, 42: 1097}\n",
      "[3]\n",
      "{171: 776, 9: 1178, 285: 1640, 12: 2021, 66: 2609, 201: 3704, 192: 4025}\n",
      "[4]\n",
      "{258: 215, 33: 524, 324: 698, 84: 2627}\n",
      "[5]\n",
      "{225: 428, 30: 1940, 48: 3494, 84: 2390, 96: 2696, 63: 3119, 180: 3203, 15: 3398, 72: 3419, 171: 3872}\n",
      "[6]\n",
      "{99: 245, 249: 1373}\n",
      "[7]\n",
      "{189: 89, 42: 311}\n",
      "[8]\n",
      "{}\n",
      "[9]\n",
      "{213: 65}\n",
      "[10]\n",
      "{252: 1016, 9: 1355, 162: 1394, 417: 1697, 711: 2333, 129: 3059}\n",
      "[11]\n",
      "{204: 56, 33: 290, 36: 344, 183: 401, 51: 596}\n",
      "[12]\n",
      "{540: 221, 123: 1271, 66: 2057, 132: 2168, 93: 2315, 1401: 3095}\n",
      "[13]\n",
      "{1317: 110, 1644: 1439, 132: 3104, 60: 3629, 93: 3797, 153: 4148, 90: 4577}\n",
      "[14]\n",
      "{132: 347}\n",
      "[15]\n",
      "{63: 692, 27: 1202, 219: 1277, 126: 1961}\n",
      "[16]\n",
      "{171: 758, 69: 965, 60: 1136, 27: 1358}\n",
      "[17]\n",
      "{}\n",
      "[18]\n",
      "{33: 20, 357: 176, 1821: 635}\n"
     ]
    }
   ],
   "source": [
    "n = 1\n",
    "lengths = []\n",
    "for key, value in seqs.items():\n",
    "    print(\"[\"+str(n)+\"]\")\n",
    "    orfs = find_orf_3(value)\n",
    "    print(orfs)\n",
    "    n += 1"
   ]
  },
  {
   "cell_type": "code",
   "execution_count": 171,
   "metadata": {},
   "outputs": [],
   "source": [
    "#  get all the repeats of length of n from all the sequences\n",
    "def get_all_repeats(sequence):\n",
    "    length = len(sequence)\n",
    "    repeats = []\n",
    "    for i in range(length):\n",
    "        repeats.append(sequence[i:i + 7])\n",
    "    return repeats"
   ]
  },
  {
   "cell_type": "code",
   "execution_count": 172,
   "metadata": {},
   "outputs": [],
   "source": [
    "# execute the defined function and put all the repeats in a list\n",
    "all_six_repeats = []\n",
    "for key, value in seqs.items():\n",
    "    repeats_list = get_all_repeats(value)\n",
    "    for j in repeats_list:\n",
    "        all_six_repeats.append(j)"
   ]
  },
  {
   "cell_type": "code",
   "execution_count": 173,
   "metadata": {},
   "outputs": [],
   "source": [
    "#  get the most frequently occurring repeat of length n in all sequences\n",
    "def most_common(lst):\n",
    "    return max(set(lst), key=lst.count)"
   ]
  },
  {
   "cell_type": "code",
   "execution_count": 174,
   "metadata": {},
   "outputs": [
    {
     "data": {
      "text/plain": [
       "'CGCGCCG'"
      ]
     },
     "execution_count": 174,
     "metadata": {},
     "output_type": "execute_result"
    }
   ],
   "source": [
    "# sequence of the repeats\n",
    "most_common(all_six_repeats)"
   ]
  },
  {
   "cell_type": "code",
   "execution_count": 170,
   "metadata": {},
   "outputs": [
    {
     "name": "stdout",
     "output_type": "stream",
     "text": [
      "10\n"
     ]
    }
   ],
   "source": [
    "# number of occurance\n",
    "print(all_six_repeats.count(most_common(all_six_repeats)))"
   ]
  },
  {
   "cell_type": "code",
   "execution_count": null,
   "metadata": {},
   "outputs": [],
   "source": []
  }
 ],
 "metadata": {
  "kernelspec": {
   "display_name": "Python 3",
   "language": "python",
   "name": "python3"
  },
  "language_info": {
   "codemirror_mode": {
    "name": "ipython",
    "version": 3
   },
   "file_extension": ".py",
   "mimetype": "text/x-python",
   "name": "python",
   "nbconvert_exporter": "python",
   "pygments_lexer": "ipython3",
   "version": "3.7.3"
  }
 },
 "nbformat": 4,
 "nbformat_minor": 2
}
